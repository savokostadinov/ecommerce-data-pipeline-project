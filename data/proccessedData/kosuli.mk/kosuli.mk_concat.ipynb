{
 "cells": [
  {
   "cell_type": "code",
   "execution_count": 3,
   "id": "20dfe3e3-7c16-4703-8b0e-702dcaf2276a",
   "metadata": {},
   "outputs": [
    {
     "name": "stdout",
     "output_type": "stream",
     "text": [
      "Combined 126 rows into kosuli_all_categories.csv\n"
     ]
    }
   ],
   "source": [
    "import pandas as pd\n",
    "\n",
    "# 1) list your cleaned files and the category label you want for each\n",
    "files = [\n",
    "    (\"kosuli_casa_moda_cleaned.csv\",   \"casa moda\"),\n",
    "    (\"kosuli_ff_fashion_cleaned.csv\",   \"ff fashion\"),\n",
    "    (\"kosuli_modern_fit_cleaned.csv\",   \"modern fit\"),\n",
    "    (\"kosuli_venti_cleaned.csv\",        \"venti\"),\n",
    "]\n",
    "\n",
    "# 2) read each in, add a Категорија column, collect into a list\n",
    "concat_df_list = []\n",
    "for path, category in files:\n",
    "    df = pd.read_csv(path, dtype=str)      # adjust dtype if you need\n",
    "    df[\"Категорија\"] = category\n",
    "    concat_df_list.append(df)\n",
    "\n",
    "# 3) concatenate them all\n",
    "all_data = pd.concat(concat_df_list, ignore_index=True)\n",
    "\n",
    "all_data.drop(all_data.columns[-1], axis=1, inplace=True)\n",
    "\n",
    "# 4) write out the combined CSV\n",
    "all_data.to_csv(\"kosuli_all_categories.csv\", index=False)\n",
    "\n",
    "print(\"Combined\", len(all_data), \"rows into kosuli_all_categories.csv\")"
   ]
  },
  {
   "cell_type": "code",
   "execution_count": null,
   "id": "72a5dfd0-0bc9-4aea-ae13-0da490a98b3c",
   "metadata": {},
   "outputs": [],
   "source": []
  }
 ],
 "metadata": {
  "kernelspec": {
   "display_name": "Python 3 (ipykernel)",
   "language": "python",
   "name": "python3"
  },
  "language_info": {
   "codemirror_mode": {
    "name": "ipython",
    "version": 3
   },
   "file_extension": ".py",
   "mimetype": "text/x-python",
   "name": "python",
   "nbconvert_exporter": "python",
   "pygments_lexer": "ipython3",
   "version": "3.12.7"
  }
 },
 "nbformat": 4,
 "nbformat_minor": 5
}
