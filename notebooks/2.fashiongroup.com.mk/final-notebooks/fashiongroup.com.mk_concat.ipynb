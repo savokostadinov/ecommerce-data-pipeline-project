{
 "cells": [
  {
   "cell_type": "code",
   "execution_count": 3,
   "id": "20dfe3e3-7c16-4703-8b0e-702dcaf2276a",
   "metadata": {},
   "outputs": [
    {
     "name": "stdout",
     "output_type": "stream",
     "text": [
      "Combined 4415 rows.\n"
     ]
    }
   ],
   "source": [
    "import pandas as pd\n",
    "\n",
    "files = [\n",
    "    (\"fashiongroup_deca_cleaned.csv\", \"deca\"),\n",
    "    (\"fashiongroup_maski_cleaned.csv\",\"maski\"),\n",
    "    (\"fashiongroup_zenski_cleaned.csv\",\"zenski\"),\n",
    "]\n",
    "\n",
    "df_list = []\n",
    "for path, cat in files:\n",
    "    df = pd.read_csv(path, dtype=str)\n",
    "    df[\"Категорија\"] = cat\n",
    "    df_list.append(df)\n",
    "\n",
    "all_data = pd.concat(df_list, ignore_index=True)\n",
    "\n",
    "# Option A: drop the stray link-column by name\n",
    "# all_data.drop(\"Линк до продукт\", axis=1, inplace=True)\n",
    "\n",
    "# Option B (instead of the line above): auto-drop any duplicate columns\n",
    "# all_data = all_data.loc[:, ~all_data.columns.duplicated()]\n",
    "\n",
    "all_data.to_csv(\"fashiongroup_all_categories.csv\", index=False)\n",
    "print(\"Combined\", len(all_data), \"rows.\")"
   ]
  },
  {
   "cell_type": "code",
   "execution_count": null,
   "id": "72a5dfd0-0bc9-4aea-ae13-0da490a98b3c",
   "metadata": {},
   "outputs": [],
   "source": []
  }
 ],
 "metadata": {
  "kernelspec": {
   "display_name": "Python 3 (ipykernel)",
   "language": "python",
   "name": "python3"
  },
  "language_info": {
   "codemirror_mode": {
    "name": "ipython",
    "version": 3
   },
   "file_extension": ".py",
   "mimetype": "text/x-python",
   "name": "python",
   "nbconvert_exporter": "python",
   "pygments_lexer": "ipython3",
   "version": "3.12.7"
  }
 },
 "nbformat": 4,
 "nbformat_minor": 5
}
