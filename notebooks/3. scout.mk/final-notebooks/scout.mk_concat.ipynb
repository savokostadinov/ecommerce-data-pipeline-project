{
 "cells": [
  {
   "cell_type": "code",
   "execution_count": 2,
   "id": "5fa19f5c-00a4-4156-8918-fbfc7c936650",
   "metadata": {},
   "outputs": [
    {
     "name": "stdout",
     "output_type": "stream",
     "text": [
      "Combined 382 rows.\n"
     ]
    }
   ],
   "source": [
    "import pandas as pd\n",
    "\n",
    "# дефинираме листа од исчистените фајлови\n",
    "files = [\n",
    "    (\"scout_obleka_deca_cleaned.csv\", \"deca\"),\n",
    "    (\"scout_obleka_mazhi_cleaned.csv\",\"maski\"),\n",
    "    (\"scout_obleka_zheni_cleaned.csv\",\"zenski\"),\n",
    "]\n",
    "\n",
    "# Секој фајл се вчитува како DataFrame, се додава нова колона „Категорија“ со соодветната категорија, и се чува во листа.\n",
    "df_list = []\n",
    "for path, cat in files:\n",
    "    df = pd.read_csv(path, dtype=str)\n",
    "    df[\"Категорија\"] = cat\n",
    "    df_list.append(df)\n",
    "\n",
    "all_data = pd.concat(df_list, ignore_index=True)\n",
    "\n",
    "all_data.drop(\"Original Price\", axis=1, inplace=True)\n",
    "\n",
    "all_data.to_csv(\"scout_all_categories.csv\", index=False)\n",
    "print(\"Combined\", len(all_data), \"rows.\")"
   ]
  },
  {
   "cell_type": "code",
   "execution_count": null,
   "id": "21413e37-9e2c-4fb9-9440-5313db5884be",
   "metadata": {},
   "outputs": [],
   "source": []
  }
 ],
 "metadata": {
  "kernelspec": {
   "display_name": "Python 3 (ipykernel)",
   "language": "python",
   "name": "python3"
  },
  "language_info": {
   "codemirror_mode": {
    "name": "ipython",
    "version": 3
   },
   "file_extension": ".py",
   "mimetype": "text/x-python",
   "name": "python",
   "nbconvert_exporter": "python",
   "pygments_lexer": "ipython3",
   "version": "3.12.7"
  }
 },
 "nbformat": 4,
 "nbformat_minor": 5
}
